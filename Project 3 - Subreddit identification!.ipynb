{
 "cells": [
  {
   "cell_type": "markdown",
   "metadata": {},
   "source": [
    "# Project 3 - Subreddit Classification\n",
    "### Matthew DeVay, ATX-DSI-11\n",
    "\n",
    "## Problem:\n",
    "\n",
    "Select two subreddits and from a post from either, identify which subreddit from which it originated. Evaluate at least two models, one of which must be a Naive Bayes. \n",
    "\n",
    "## Exectutive Summary:\n",
    "\n",
    "After speaking with people in the general domain of Data Science, a common theme is that none of them actually consider themselves data scientists, despite almost exclusively using tools and models with which data scientists should be proficient. As such, I was curious as to whether or not the Learn Machine Learning subreddit was significantly distinguishable from the Data Science Subreddit. Anectdotally, both are casual, with representation from both newcomers and experts. There is no specified format for posting, and the subreddit rules are fairly similar. \n",
    "\n",
    "Data was obtained via the pushshift API, with posts tagged as removed by moderators and/or users rejected. Crossposts were set to 0 to reject submissions that may have been crossposted on both subs. Video posts were similarly rejected. Only submissions were analyzed. \n",
    "\n",
    "The submission title data were CountVectorized and fed into a Multinomial Naive Bayes (MNB) model. Grid search was performed over several hyperparameters. The grid search yielded a model with approximately 78% accuracy score for predicting which subreddit a post may have come from based on its title. Predictions for the validation data had an accuracy score of approximately 77%, indicating reasonable bias and variance for this model.\n",
    "\n",
    "Further modeling was done using TF-IDF Vectorization, and used to train a support vector model. Grid search was also performed over several hyperparameters, and yielded a model with approximately 78% accuracy as well. Predictions for the validation data had an accuracy of approximately 76%, also indicating reasonable bias and variance, but failing to outperform the MNB model.\n",
    "\n",
    "As an extra step, the gridsearch model for the MNB was trained on the selftext data. Prior to this, the selftext data had been munged to remove empty or nan observations. This leads to a roughly 20% reduction in total data, and makes predictibility dependent on the presence of selftext data. It also massively increases the features after vectorization, which leads to significantly longer modeling times. \n",
    "\n",
    "The accuracy score of the selftext training data for the best performing MNB model was approximately 81%. The accuracy for the validation data was approximately 82%. A 3% gain in accuracy was realized at the cost of approximately a 5x increase in CPU utilization. Combined with the lowered number of suitable submissions, predicting based on selftext probably does not provide any benefit for real-world application of the model.\n",
    "\n",
    "In summation, it is sufficiently challenging to predict accurately whether or not a post originated in a group focused on Data Science or Machine Learning. Based on these models, my friend should acknowledge that machine learning and data science are inextricably intertwined."
   ]
  },
  {
   "cell_type": "markdown",
   "metadata": {},
   "source": [
    "## Import and EDA"
   ]
  },
  {
   "cell_type": "code",
   "execution_count": 1,
   "metadata": {},
   "outputs": [
    {
     "name": "stderr",
     "output_type": "stream",
     "text": [
      "C:\\ProgramData\\Anaconda3\\lib\\site-packages\\statsmodels\\tools\\_testing.py:19: FutureWarning: pandas.util.testing is deprecated. Use the functions in the public API at pandas.testing instead.\n",
      "  import pandas.util.testing as tm\n"
     ]
    },
    {
     "name": "stdout",
     "output_type": "stream",
     "text": [
      "The timestamp for this iteration of the project is 1587755907.\n"
     ]
    },
    {
     "name": "stderr",
     "output_type": "stream",
     "text": [
      "C:\\Users\\mdeva\\AppData\\Roaming\\Python\\Python37\\site-packages\\sklearn\\utils\\deprecation.py:144: FutureWarning: The sklearn.feature_extraction.stop_words module is  deprecated in version 0.22 and will be removed in version 0.24. The corresponding classes / functions should instead be imported from sklearn.feature_extraction.text. Anything that cannot be imported from sklearn.feature_extraction.text is now part of the private API.\n",
      "  warnings.warn(message, FutureWarning)\n"
     ]
    }
   ],
   "source": [
    "# import the libraries I think I might need:\n",
    "\n",
    "import numpy as np\n",
    "import pandas as pd\n",
    "import missingno as msno\n",
    "import matplotlib.pyplot as plt\n",
    "import seaborn as sns\n",
    "import time\n",
    "import requests\n",
    "\n",
    "from sklearn.naive_bayes import GaussianNB, MultinomialNB\n",
    "from sklearn.feature_extraction import stop_words\n",
    "from sklearn.model_selection import train_test_split, cross_val_score, GridSearchCV\n",
    "from sklearn.pipeline import Pipeline, TransformerMixin\n",
    "from sklearn.feature_extraction.text import CountVectorizer, TfidfVectorizer\n",
    "from sklearn.svm import SVC\n",
    "\n",
    "\n",
    "time_stamp = round(time.time())\n",
    "print(f\"The timestamp for this iteration of the project is {time_stamp}.\")"
   ]
  },
  {
   "cell_type": "code",
   "execution_count": 2,
   "metadata": {},
   "outputs": [],
   "source": [
    "# import the data from the API. We'll use the subreddits machinelearning and datascience\n",
    "\n",
    "# code inspired by Tim Book during open office hours\n",
    "\n",
    "\n",
    "def get_comments(subreddit, n_k):\n",
    "    '''This function will collect n * 1000 comments from a subreddit via the pushshift.io API, \n",
    "    starting with the most recent comments'''\n",
    "    \n",
    "    # instantiate a list to hold the dataframes\n",
    "    df_list = []\n",
    "    \n",
    "    # initiate a time counter to the current time\n",
    "    \n",
    "    current_time = time_stamp\n",
    "    # iterate for each set of 1000 comments\n",
    "    for n in range(n_k):\n",
    "        \n",
    "        # get the data:\n",
    "        res = requests.get(\n",
    "            'https://api.pushshift.io/reddit/search/submission/?',\n",
    "            params={\n",
    "                \"subreddit\": subreddit,  \n",
    "                \"size\": 1000,\n",
    "                \"lang\": True,\n",
    "                \"before\": current_time,\n",
    "                \"user_removed\" : False,\n",
    "                \"mod_removed\" : False,\n",
    "                \"num_crossposts\" : 0,\n",
    "                \"is_video\" : False\n",
    "            }\n",
    "        )\n",
    "        \n",
    "        # wait a few seconds to be nice to the server:\n",
    "        time.sleep(2)\n",
    "        \n",
    "        # create a dataframe from the request JSON\n",
    "        df = pd.DataFrame(res.json()['data'])\n",
    "        \n",
    "        # isolate the columns we need\n",
    "        df = df.loc[:, [\"created_utc\", \"title\", \"selftext\", \"subreddit\"]]\n",
    "        \n",
    "        # add them to the list of dataframes\n",
    "        df_list.append(df)\n",
    "        \n",
    "        # adjust the time counter to the oldest time in the dataframe\n",
    "        current_time = df.created_utc.min()\n",
    "    \n",
    "    # return the concatenated dataframes from the list\n",
    "    return pd.concat(df_list, axis=0, ignore_index=True)"
   ]
  },
  {
   "cell_type": "code",
   "execution_count": 3,
   "metadata": {
    "scrolled": true
   },
   "outputs": [],
   "source": [
    "df_ds = get_comments('datascience', 3)"
   ]
  },
  {
   "cell_type": "code",
   "execution_count": 4,
   "metadata": {
    "scrolled": true
   },
   "outputs": [],
   "source": [
    "df_ml = get_comments('learnmachinelearning', 3)"
   ]
  },
  {
   "cell_type": "code",
   "execution_count": 5,
   "metadata": {},
   "outputs": [],
   "source": [
    "# concat the datascience and machinelearning dataframes:\n",
    "\n",
    "df = pd.concat([df_ml, df_ds], axis=0, ignore_index=True)"
   ]
  },
  {
   "cell_type": "code",
   "execution_count": 6,
   "metadata": {},
   "outputs": [
    {
     "data": {
      "text/html": [
       "<div>\n",
       "<style scoped>\n",
       "    .dataframe tbody tr th:only-of-type {\n",
       "        vertical-align: middle;\n",
       "    }\n",
       "\n",
       "    .dataframe tbody tr th {\n",
       "        vertical-align: top;\n",
       "    }\n",
       "\n",
       "    .dataframe thead th {\n",
       "        text-align: right;\n",
       "    }\n",
       "</style>\n",
       "<table border=\"1\" class=\"dataframe\">\n",
       "  <thead>\n",
       "    <tr style=\"text-align: right;\">\n",
       "      <th></th>\n",
       "      <th>created_utc</th>\n",
       "      <th>title</th>\n",
       "      <th>selftext</th>\n",
       "      <th>subreddit</th>\n",
       "    </tr>\n",
       "  </thead>\n",
       "  <tbody>\n",
       "    <tr>\n",
       "      <th>0</th>\n",
       "      <td>1587754577</td>\n",
       "      <td>\"Machine Learning Engineering\" Learning Series...</td>\n",
       "      <td>(I hope it is appropriate to post this here)\\n...</td>\n",
       "      <td>learnmachinelearning</td>\n",
       "    </tr>\n",
       "    <tr>\n",
       "      <th>1</th>\n",
       "      <td>1587750757</td>\n",
       "      <td>A Simple Machine Learning Project Since Data C...</td>\n",
       "      <td></td>\n",
       "      <td>learnmachinelearning</td>\n",
       "    </tr>\n",
       "    <tr>\n",
       "      <th>2</th>\n",
       "      <td>1587748828</td>\n",
       "      <td>Dynamically shaped tensor in Keras</td>\n",
       "      <td>I need to create a tensor of zeros with dimens...</td>\n",
       "      <td>learnmachinelearning</td>\n",
       "    </tr>\n",
       "    <tr>\n",
       "      <th>3</th>\n",
       "      <td>1587748303</td>\n",
       "      <td>Why is my Ann slower than tensorflows?</td>\n",
       "      <td>I make my own multi layer perception in python...</td>\n",
       "      <td>learnmachinelearning</td>\n",
       "    </tr>\n",
       "    <tr>\n",
       "      <th>4</th>\n",
       "      <td>1587747370</td>\n",
       "      <td>Kaggle Mastery</td>\n",
       "      <td>Hello, beginner in data science here. I have ...</td>\n",
       "      <td>learnmachinelearning</td>\n",
       "    </tr>\n",
       "  </tbody>\n",
       "</table>\n",
       "</div>"
      ],
      "text/plain": [
       "   created_utc                                              title  \\\n",
       "0   1587754577  \"Machine Learning Engineering\" Learning Series...   \n",
       "1   1587750757  A Simple Machine Learning Project Since Data C...   \n",
       "2   1587748828                 Dynamically shaped tensor in Keras   \n",
       "3   1587748303             Why is my Ann slower than tensorflows?   \n",
       "4   1587747370                                     Kaggle Mastery   \n",
       "\n",
       "                                            selftext             subreddit  \n",
       "0  (I hope it is appropriate to post this here)\\n...  learnmachinelearning  \n",
       "1                                                     learnmachinelearning  \n",
       "2  I need to create a tensor of zeros with dimens...  learnmachinelearning  \n",
       "3  I make my own multi layer perception in python...  learnmachinelearning  \n",
       "4   Hello, beginner in data science here. I have ...  learnmachinelearning  "
      ]
     },
     "execution_count": 6,
     "metadata": {},
     "output_type": "execute_result"
    }
   ],
   "source": [
    "df.head()"
   ]
  },
  {
   "cell_type": "code",
   "execution_count": 7,
   "metadata": {},
   "outputs": [
    {
     "data": {
      "text/html": [
       "<div>\n",
       "<style scoped>\n",
       "    .dataframe tbody tr th:only-of-type {\n",
       "        vertical-align: middle;\n",
       "    }\n",
       "\n",
       "    .dataframe tbody tr th {\n",
       "        vertical-align: top;\n",
       "    }\n",
       "\n",
       "    .dataframe thead th {\n",
       "        text-align: right;\n",
       "    }\n",
       "</style>\n",
       "<table border=\"1\" class=\"dataframe\">\n",
       "  <thead>\n",
       "    <tr style=\"text-align: right;\">\n",
       "      <th></th>\n",
       "      <th>created_utc</th>\n",
       "      <th>title</th>\n",
       "      <th>selftext</th>\n",
       "      <th>subreddit</th>\n",
       "    </tr>\n",
       "  </thead>\n",
       "  <tbody>\n",
       "    <tr>\n",
       "      <th>5995</th>\n",
       "      <td>1582147424</td>\n",
       "      <td>Creating Model vs Using Library</td>\n",
       "      <td>I just finished a small machine learning serie...</td>\n",
       "      <td>datascience</td>\n",
       "    </tr>\n",
       "    <tr>\n",
       "      <th>5996</th>\n",
       "      <td>1582145831</td>\n",
       "      <td>Project related to text mining</td>\n",
       "      <td>I have enrolled into a text mining course in m...</td>\n",
       "      <td>datascience</td>\n",
       "    </tr>\n",
       "    <tr>\n",
       "      <th>5997</th>\n",
       "      <td>1582145687</td>\n",
       "      <td>Is it possible to become a self-taught data sc...</td>\n",
       "      <td>Has anyone else on this subreddit transitioned...</td>\n",
       "      <td>datascience</td>\n",
       "    </tr>\n",
       "    <tr>\n",
       "      <th>5998</th>\n",
       "      <td>1582140495</td>\n",
       "      <td>Hey guys, I just got into Data Science, I have...</td>\n",
       "      <td></td>\n",
       "      <td>datascience</td>\n",
       "    </tr>\n",
       "    <tr>\n",
       "      <th>5999</th>\n",
       "      <td>1582139304</td>\n",
       "      <td>Decent survey creator to collect answers</td>\n",
       "      <td></td>\n",
       "      <td>datascience</td>\n",
       "    </tr>\n",
       "  </tbody>\n",
       "</table>\n",
       "</div>"
      ],
      "text/plain": [
       "      created_utc                                              title  \\\n",
       "5995   1582147424                    Creating Model vs Using Library   \n",
       "5996   1582145831                     Project related to text mining   \n",
       "5997   1582145687  Is it possible to become a self-taught data sc...   \n",
       "5998   1582140495  Hey guys, I just got into Data Science, I have...   \n",
       "5999   1582139304           Decent survey creator to collect answers   \n",
       "\n",
       "                                               selftext    subreddit  \n",
       "5995  I just finished a small machine learning serie...  datascience  \n",
       "5996  I have enrolled into a text mining course in m...  datascience  \n",
       "5997  Has anyone else on this subreddit transitioned...  datascience  \n",
       "5998                                                     datascience  \n",
       "5999                                                     datascience  "
      ]
     },
     "execution_count": 7,
     "metadata": {},
     "output_type": "execute_result"
    }
   ],
   "source": [
    "df.tail()"
   ]
  },
  {
   "cell_type": "code",
   "execution_count": 8,
   "metadata": {},
   "outputs": [
    {
     "data": {
      "text/plain": [
       "(6000, 4)"
      ]
     },
     "execution_count": 8,
     "metadata": {},
     "output_type": "execute_result"
    }
   ],
   "source": [
    "df.shape"
   ]
  },
  {
   "cell_type": "code",
   "execution_count": 9,
   "metadata": {},
   "outputs": [],
   "source": [
    "# now that our raw data is imported and ready to go, lets create a new dataframe\n",
    "# from it so that we can always go back and reference the raw\n",
    "# let's start by making a dummy of the target column:\n",
    "\n",
    "data = pd.get_dummies(df, columns=['subreddit'], drop_first=True)"
   ]
  },
  {
   "cell_type": "code",
   "execution_count": 10,
   "metadata": {},
   "outputs": [
    {
     "data": {
      "text/html": [
       "<div>\n",
       "<style scoped>\n",
       "    .dataframe tbody tr th:only-of-type {\n",
       "        vertical-align: middle;\n",
       "    }\n",
       "\n",
       "    .dataframe tbody tr th {\n",
       "        vertical-align: top;\n",
       "    }\n",
       "\n",
       "    .dataframe thead th {\n",
       "        text-align: right;\n",
       "    }\n",
       "</style>\n",
       "<table border=\"1\" class=\"dataframe\">\n",
       "  <thead>\n",
       "    <tr style=\"text-align: right;\">\n",
       "      <th></th>\n",
       "      <th>created_utc</th>\n",
       "      <th>title</th>\n",
       "      <th>selftext</th>\n",
       "      <th>subreddit_learnmachinelearning</th>\n",
       "    </tr>\n",
       "  </thead>\n",
       "  <tbody>\n",
       "    <tr>\n",
       "      <th>0</th>\n",
       "      <td>1587754577</td>\n",
       "      <td>\"Machine Learning Engineering\" Learning Series...</td>\n",
       "      <td>(I hope it is appropriate to post this here)\\n...</td>\n",
       "      <td>1</td>\n",
       "    </tr>\n",
       "    <tr>\n",
       "      <th>1</th>\n",
       "      <td>1587750757</td>\n",
       "      <td>A Simple Machine Learning Project Since Data C...</td>\n",
       "      <td></td>\n",
       "      <td>1</td>\n",
       "    </tr>\n",
       "    <tr>\n",
       "      <th>2</th>\n",
       "      <td>1587748828</td>\n",
       "      <td>Dynamically shaped tensor in Keras</td>\n",
       "      <td>I need to create a tensor of zeros with dimens...</td>\n",
       "      <td>1</td>\n",
       "    </tr>\n",
       "    <tr>\n",
       "      <th>3</th>\n",
       "      <td>1587748303</td>\n",
       "      <td>Why is my Ann slower than tensorflows?</td>\n",
       "      <td>I make my own multi layer perception in python...</td>\n",
       "      <td>1</td>\n",
       "    </tr>\n",
       "    <tr>\n",
       "      <th>4</th>\n",
       "      <td>1587747370</td>\n",
       "      <td>Kaggle Mastery</td>\n",
       "      <td>Hello, beginner in data science here. I have ...</td>\n",
       "      <td>1</td>\n",
       "    </tr>\n",
       "  </tbody>\n",
       "</table>\n",
       "</div>"
      ],
      "text/plain": [
       "   created_utc                                              title  \\\n",
       "0   1587754577  \"Machine Learning Engineering\" Learning Series...   \n",
       "1   1587750757  A Simple Machine Learning Project Since Data C...   \n",
       "2   1587748828                 Dynamically shaped tensor in Keras   \n",
       "3   1587748303             Why is my Ann slower than tensorflows?   \n",
       "4   1587747370                                     Kaggle Mastery   \n",
       "\n",
       "                                            selftext  \\\n",
       "0  (I hope it is appropriate to post this here)\\n...   \n",
       "1                                                      \n",
       "2  I need to create a tensor of zeros with dimens...   \n",
       "3  I make my own multi layer perception in python...   \n",
       "4   Hello, beginner in data science here. I have ...   \n",
       "\n",
       "   subreddit_learnmachinelearning  \n",
       "0                               1  \n",
       "1                               1  \n",
       "2                               1  \n",
       "3                               1  \n",
       "4                               1  "
      ]
     },
     "execution_count": 10,
     "metadata": {},
     "output_type": "execute_result"
    }
   ],
   "source": [
    "data.head()"
   ]
  },
  {
   "cell_type": "code",
   "execution_count": 11,
   "metadata": {},
   "outputs": [
    {
     "data": {
      "text/html": [
       "<div>\n",
       "<style scoped>\n",
       "    .dataframe tbody tr th:only-of-type {\n",
       "        vertical-align: middle;\n",
       "    }\n",
       "\n",
       "    .dataframe tbody tr th {\n",
       "        vertical-align: top;\n",
       "    }\n",
       "\n",
       "    .dataframe thead th {\n",
       "        text-align: right;\n",
       "    }\n",
       "</style>\n",
       "<table border=\"1\" class=\"dataframe\">\n",
       "  <thead>\n",
       "    <tr style=\"text-align: right;\">\n",
       "      <th></th>\n",
       "      <th>created_utc</th>\n",
       "      <th>title</th>\n",
       "      <th>selftext</th>\n",
       "      <th>target</th>\n",
       "    </tr>\n",
       "  </thead>\n",
       "  <tbody>\n",
       "    <tr>\n",
       "      <th>0</th>\n",
       "      <td>1587754577</td>\n",
       "      <td>\"Machine Learning Engineering\" Learning Series...</td>\n",
       "      <td>(I hope it is appropriate to post this here)\\n...</td>\n",
       "      <td>1</td>\n",
       "    </tr>\n",
       "    <tr>\n",
       "      <th>1</th>\n",
       "      <td>1587750757</td>\n",
       "      <td>A Simple Machine Learning Project Since Data C...</td>\n",
       "      <td></td>\n",
       "      <td>1</td>\n",
       "    </tr>\n",
       "    <tr>\n",
       "      <th>2</th>\n",
       "      <td>1587748828</td>\n",
       "      <td>Dynamically shaped tensor in Keras</td>\n",
       "      <td>I need to create a tensor of zeros with dimens...</td>\n",
       "      <td>1</td>\n",
       "    </tr>\n",
       "    <tr>\n",
       "      <th>3</th>\n",
       "      <td>1587748303</td>\n",
       "      <td>Why is my Ann slower than tensorflows?</td>\n",
       "      <td>I make my own multi layer perception in python...</td>\n",
       "      <td>1</td>\n",
       "    </tr>\n",
       "    <tr>\n",
       "      <th>4</th>\n",
       "      <td>1587747370</td>\n",
       "      <td>Kaggle Mastery</td>\n",
       "      <td>Hello, beginner in data science here. I have ...</td>\n",
       "      <td>1</td>\n",
       "    </tr>\n",
       "  </tbody>\n",
       "</table>\n",
       "</div>"
      ],
      "text/plain": [
       "   created_utc                                              title  \\\n",
       "0   1587754577  \"Machine Learning Engineering\" Learning Series...   \n",
       "1   1587750757  A Simple Machine Learning Project Since Data C...   \n",
       "2   1587748828                 Dynamically shaped tensor in Keras   \n",
       "3   1587748303             Why is my Ann slower than tensorflows?   \n",
       "4   1587747370                                     Kaggle Mastery   \n",
       "\n",
       "                                            selftext  target  \n",
       "0  (I hope it is appropriate to post this here)\\n...       1  \n",
       "1                                                          1  \n",
       "2  I need to create a tensor of zeros with dimens...       1  \n",
       "3  I make my own multi layer perception in python...       1  \n",
       "4   Hello, beginner in data science here. I have ...       1  "
      ]
     },
     "execution_count": 11,
     "metadata": {},
     "output_type": "execute_result"
    }
   ],
   "source": [
    "# in this case, we've set up the data so that we have ml as 1 and datascience as 0.\n",
    "# let's rename that column so that it is a little easier to work with\n",
    "\n",
    "data.rename(columns={'subreddit_learnmachinelearning' : 'target'}, inplace=True)\n",
    "data.head()"
   ]
  },
  {
   "cell_type": "code",
   "execution_count": 12,
   "metadata": {},
   "outputs": [
    {
     "data": {
      "text/html": [
       "<div>\n",
       "<style scoped>\n",
       "    .dataframe tbody tr th:only-of-type {\n",
       "        vertical-align: middle;\n",
       "    }\n",
       "\n",
       "    .dataframe tbody tr th {\n",
       "        vertical-align: top;\n",
       "    }\n",
       "\n",
       "    .dataframe thead th {\n",
       "        text-align: right;\n",
       "    }\n",
       "</style>\n",
       "<table border=\"1\" class=\"dataframe\">\n",
       "  <thead>\n",
       "    <tr style=\"text-align: right;\">\n",
       "      <th></th>\n",
       "      <th>title</th>\n",
       "      <th>target</th>\n",
       "    </tr>\n",
       "  </thead>\n",
       "  <tbody>\n",
       "    <tr>\n",
       "      <th>0</th>\n",
       "      <td>\"Machine Learning Engineering\" Learning Series...</td>\n",
       "      <td>1</td>\n",
       "    </tr>\n",
       "    <tr>\n",
       "      <th>1</th>\n",
       "      <td>A Simple Machine Learning Project Since Data C...</td>\n",
       "      <td>1</td>\n",
       "    </tr>\n",
       "    <tr>\n",
       "      <th>2</th>\n",
       "      <td>Dynamically shaped tensor in Keras</td>\n",
       "      <td>1</td>\n",
       "    </tr>\n",
       "    <tr>\n",
       "      <th>3</th>\n",
       "      <td>Why is my Ann slower than tensorflows?</td>\n",
       "      <td>1</td>\n",
       "    </tr>\n",
       "    <tr>\n",
       "      <th>4</th>\n",
       "      <td>Kaggle Mastery</td>\n",
       "      <td>1</td>\n",
       "    </tr>\n",
       "  </tbody>\n",
       "</table>\n",
       "</div>"
      ],
      "text/plain": [
       "                                               title  target\n",
       "0  \"Machine Learning Engineering\" Learning Series...       1\n",
       "1  A Simple Machine Learning Project Since Data C...       1\n",
       "2                 Dynamically shaped tensor in Keras       1\n",
       "3             Why is my Ann slower than tensorflows?       1\n",
       "4                                     Kaggle Mastery       1"
      ]
     },
     "execution_count": 12,
     "metadata": {},
     "output_type": "execute_result"
    }
   ],
   "source": [
    "# now we can drop timestamps and for now, selftext:\n",
    "\n",
    "data_ref = data.drop(columns=['created_utc', 'selftext'])\n",
    "data_ref.head()"
   ]
  },
  {
   "cell_type": "code",
   "execution_count": 13,
   "metadata": {},
   "outputs": [],
   "source": [
    "# now lets work on some visualization!\n",
    "\n",
    "title_counts = df['title']"
   ]
  },
  {
   "cell_type": "code",
   "execution_count": 14,
   "metadata": {},
   "outputs": [],
   "source": [
    "# we should at least look at the most common words\n",
    "# we'll use a Count Vectorizer to do this\n",
    "cvec = CountVectorizer(stop_words='english')\n",
    "terms = cvec.fit_transform(title_counts)\n",
    "title_count = pd.DataFrame(terms.toarray(), columns=cvec.get_feature_names())"
   ]
  },
  {
   "cell_type": "code",
   "execution_count": 15,
   "metadata": {},
   "outputs": [],
   "source": [
    "title_count['sub'] = df['subreddit']"
   ]
  },
  {
   "cell_type": "code",
   "execution_count": 16,
   "metadata": {},
   "outputs": [],
   "source": [
    "title_count['target'] = data['target']"
   ]
  },
  {
   "cell_type": "code",
   "execution_count": 17,
   "metadata": {},
   "outputs": [],
   "source": [
    "ds_top = list(title_count.groupby('target').mean().T.sort_values(0, ascending=False).head(20).index)\n",
    "ml_top = list(title_count.groupby('target').mean().T.sort_values(1, ascending=False).head(20).index)"
   ]
  },
  {
   "cell_type": "code",
   "execution_count": 18,
   "metadata": {},
   "outputs": [
    {
     "data": {
      "text/plain": [
       "['data',\n",
       " 'science',\n",
       " 'learning',\n",
       " 'scientist',\n",
       " 'python',\n",
       " 'covid',\n",
       " '19',\n",
       " 'help',\n",
       " 'career',\n",
       " 'job',\n",
       " 'machine',\n",
       " 'best',\n",
       " 'looking',\n",
       " 'need',\n",
       " 'analysis',\n",
       " 'using',\n",
       " 'time',\n",
       " 'learn',\n",
       " 'analytics',\n",
       " 'advice']"
      ]
     },
     "execution_count": 18,
     "metadata": {},
     "output_type": "execute_result"
    }
   ],
   "source": [
    "ds_top"
   ]
  },
  {
   "cell_type": "code",
   "execution_count": 19,
   "metadata": {},
   "outputs": [
    {
     "data": {
      "text/plain": [
       "[1450,\n",
       " 747,\n",
       " 172,\n",
       " 151,\n",
       " 149,\n",
       " 129,\n",
       " 128,\n",
       " 120,\n",
       " 97,\n",
       " 97,\n",
       " 92,\n",
       " 88,\n",
       " 86,\n",
       " 86,\n",
       " 84,\n",
       " 82,\n",
       " 79,\n",
       " 78,\n",
       " 78,\n",
       " 77]"
      ]
     },
     "execution_count": 19,
     "metadata": {},
     "output_type": "execute_result"
    }
   ],
   "source": [
    "ds_top_cnt = list(title_count[title_count[\"target\"] == 0][ds_top].sum().sort_values(ascending=False))\n",
    "ds_top_cnt"
   ]
  },
  {
   "cell_type": "code",
   "execution_count": 20,
   "metadata": {},
   "outputs": [
    {
     "data": {
      "text/plain": [
       "Text(0.5, 1.0, 'Top words in r/datascience Titles')"
      ]
     },
     "execution_count": 20,
     "metadata": {},
     "output_type": "execute_result"
    },
    {
     "data": {
      "image/png": "[encoded data removed]",
      "text/plain": [
       "<Figure size 864x432 with 1 Axes>"
      ]
     },
     "metadata": {
      "needs_background": "light"
     },
     "output_type": "display_data"
    }
   ],
   "source": [
    "plt.figure(figsize=(12,6))\n",
    "sns.barplot(y=ds_top, x=ds_top_cnt, orient='h', palette='cool')\n",
    "plt.title('Top words in r/datascience Titles')"
   ]
  },
  {
   "cell_type": "code",
   "execution_count": 21,
   "metadata": {},
   "outputs": [
    {
     "data": {
      "text/plain": [
       "Text(0.5, 1.0, 'Top words in r/learnmachinelearning Titles')"
      ]
     },
     "execution_count": 21,
     "metadata": {},
     "output_type": "execute_result"
    },
    {
     "data": {
      "image/png": "[encoded data removed]",
      "text/plain": [
       "<Figure size 864x432 with 1 Axes>"
      ]
     },
     "metadata": {
      "needs_background": "light"
     },
     "output_type": "display_data"
    }
   ],
   "source": [
    "ml_top_counts = list(title_count[title_count[\"target\"] == 1][ml_top].sum().sort_values(ascending=False))\n",
    "plt.figure(figsize=(12,6))\n",
    "sns.barplot(y=ml_top, x=ml_top_counts, orient='h', palette='cool')\n",
    "plt.title('Top words in r/learnmachinelearning Titles')"
   ]
  },
  {
   "cell_type": "code",
   "execution_count": 22,
   "metadata": {},
   "outputs": [
    {
     "data": {
      "text/plain": [
       "['learning',\n",
       " 'machine',\n",
       " 'data',\n",
       " 'using',\n",
       " 'help',\n",
       " 'python',\n",
       " 'learn',\n",
       " 'science',\n",
       " 'need']"
      ]
     },
     "execution_count": 22,
     "metadata": {},
     "output_type": "execute_result"
    }
   ],
   "source": [
    "# overlap\n",
    "overlap = [word for word in ml_top if word in ds_top]\n",
    "overlap"
   ]
  },
  {
   "cell_type": "code",
   "execution_count": 23,
   "metadata": {},
   "outputs": [
    {
     "name": "stderr",
     "output_type": "stream",
     "text": [
      "C:\\ProgramData\\Anaconda3\\lib\\site-packages\\ipykernel_launcher.py:2: SettingWithCopyWarning: \n",
      "A value is trying to be set on a copy of a slice from a DataFrame.\n",
      "Try using .loc[row_indexer,col_indexer] = value instead\n",
      "\n",
      "See the caveats in the documentation: https://pandas.pydata.org/pandas-docs/stable/user_guide/indexing.html#returning-a-view-versus-a-copy\n",
      "  \n"
     ]
    }
   ],
   "source": [
    "overlap_df = title_count[overlap]\n",
    "overlap_df['target'] = title_count['target']\n",
    "overlap_count_ds = list(overlap_df[overlap_df['target']==0][overlap].sum())\n",
    "overlap_count_ml = list(overlap_df[overlap_df['target']==1][overlap].sum())\n",
    "ds_overlap = pd.DataFrame({\n",
    "    'word' : overlap,\n",
    "    'count' : overlap_count_ds\n",
    "})\n",
    "ds_overlap['Subreddit'] = 'r/datascience'\n",
    "ds_overlap\n",
    "ml_overlap = pd.DataFrame({\n",
    "    'word' : overlap,\n",
    "    'count' : overlap_count_ml\n",
    "})\n",
    "ml_overlap['Subreddit'] = 'r/learnmachinelearning'\n",
    "overlap_all = pd.concat([ds_overlap, ml_overlap])"
   ]
  },
  {
   "cell_type": "code",
   "execution_count": 24,
   "metadata": {
    "scrolled": true
   },
   "outputs": [
    {
     "data": {
      "text/plain": [
       "Text(0.5, 1.0, 'Top words for Both Subreddits Titles')"
      ]
     },
     "execution_count": 24,
     "metadata": {},
     "output_type": "execute_result"
    },
    {
     "data": {
      "image/png": "[encoded data removed]",
      "text/plain": [
       "<Figure size 864x432 with 1 Axes>"
      ]
     },
     "metadata": {
      "needs_background": "light"
     },
     "output_type": "display_data"
    }
   ],
   "source": [
    "plt.figure(figsize=(12,6))\n",
    "sns.barplot(x='count', y='word', hue='Subreddit', data=overlap_all, orient='h', palette='Paired')\n",
    "plt.title('Top words for Both Subreddits Titles')"
   ]
  },
  {
   "cell_type": "markdown",
   "metadata": {},
   "source": [
    "### EDA summary\n",
    "\n",
    "As we can see, there are a lot of shared top words between each subreddit. This will likely make it challenging for our models to differentiate the two subs. However, adding them to the stopwords would be giving an unfair advantage to my friend. "
   ]
  },
  {
   "cell_type": "markdown",
   "metadata": {},
   "source": [
    "## Modeling\n",
    "\n",
    "We'll begin with the Multinomial Naive Bayes, and also include a Gaussian Naive Bayes and a Support Vector machine:"
   ]
  },
  {
   "cell_type": "code",
   "execution_count": 25,
   "metadata": {},
   "outputs": [],
   "source": [
    "# because we had the opportunity to choose the data ourselves, we have \n",
    "# perfectly balanced classes. Therefore, we won't bother to stratify \n",
    "# the training/testing sets. Let's start modeling by setting up a \n",
    "# pipeline that will use a CountVectorizer and a Multinomial Naive Bayes model\n",
    "\n",
    "# first, we need to make a dense Transformer since we want to pass dense arrays.\n",
    "# fortunately, we did this in the local lesson, and the following class definition comes\n",
    "# from the Vectorizers_pipelines lesson adapted from Mahdi and BoomL\n",
    "\n",
    "class DenseTransformer(TransformerMixin):\n",
    "    def fit(self, X, y=None, **fit_params):\n",
    "        return self\n",
    "    \n",
    "    def transform(self, X, y=None, **fit_params):\n",
    "        return X.toarray()\n",
    "\n",
    "\n",
    "pipe_mnb = Pipeline([\n",
    "    ('cvec', CountVectorizer()),\n",
    "    ('mnb', MultinomialNB())\n",
    "])\n",
    "\n",
    "ds_stop_words = ['data', 'science']\n",
    "ml_stop_words = ['machine', 'learning']\n",
    "all_stop = ds_stop_words + ml_stop_words\n",
    "\n",
    "pipe_params = {\n",
    "    'cvec__ngram_range' : [(1,1), (1,2), (1,3)], \n",
    "    'cvec__min_df' : [1, 2, 4, 10],\n",
    "    'cvec__max_df' : [0.5, 0.75, 0.95, 1],\n",
    "    'cvec__stop_words' : [None, 'english'],\n",
    "    'cvec__max_features' : [5_000, 7_500, 10_000],\n",
    "    'mnb__alpha' : [.1, 1, 10]\n",
    "}\n",
    "\n"
   ]
  },
  {
   "cell_type": "code",
   "execution_count": 26,
   "metadata": {},
   "outputs": [],
   "source": [
    "# now let's set up our data:\n",
    "\n",
    "X = data_ref['title']\n",
    "y = data_ref['target']\n",
    "\n",
    "X_train, X_test, y_train, y_test = train_test_split(X, y, random_state=42)\n",
    "\n"
   ]
  },
  {
   "cell_type": "code",
   "execution_count": 27,
   "metadata": {},
   "outputs": [
    {
     "name": "stdout",
     "output_type": "stream",
     "text": [
      "Wall time: 0 ns\n",
      "Fitting 5 folds for each of 864 candidates, totalling 4320 fits\n"
     ]
    },
    {
     "name": "stderr",
     "output_type": "stream",
     "text": [
      "[Parallel(n_jobs=-1)]: Using backend LokyBackend with 16 concurrent workers.\n",
      "[Parallel(n_jobs=-1)]: Done  18 tasks      | elapsed:    2.2s\n",
      "[Parallel(n_jobs=-1)]: Done 168 tasks      | elapsed:    4.8s\n",
      "[Parallel(n_jobs=-1)]: Done 418 tasks      | elapsed:    8.3s\n",
      "[Parallel(n_jobs=-1)]: Done 768 tasks      | elapsed:   13.6s\n",
      "[Parallel(n_jobs=-1)]: Done 1218 tasks      | elapsed:   20.2s\n",
      "[Parallel(n_jobs=-1)]: Done 1768 tasks      | elapsed:   28.1s\n",
      "[Parallel(n_jobs=-1)]: Done 2418 tasks      | elapsed:   37.8s\n",
      "[Parallel(n_jobs=-1)]: Done 3168 tasks      | elapsed:   48.4s\n",
      "[Parallel(n_jobs=-1)]: Done 4289 out of 4320 | elapsed:  1.0min remaining:    0.3s\n",
      "[Parallel(n_jobs=-1)]: Done 4320 out of 4320 | elapsed:  1.0min finished\n"
     ]
    },
    {
     "data": {
      "text/plain": [
       "GridSearchCV(cv=5, error_score=nan,\n",
       "             estimator=Pipeline(memory=None,\n",
       "                                steps=[('cvec',\n",
       "                                        CountVectorizer(analyzer='word',\n",
       "                                                        binary=False,\n",
       "                                                        decode_error='strict',\n",
       "                                                        dtype=<class 'numpy.int64'>,\n",
       "                                                        encoding='utf-8',\n",
       "                                                        input='content',\n",
       "                                                        lowercase=True,\n",
       "                                                        max_df=1.0,\n",
       "                                                        max_features=None,\n",
       "                                                        min_df=1,\n",
       "                                                        ngram_range=(1, 1),\n",
       "                                                        preprocessor=None,\n",
       "                                                        stop_words=None,\n",
       "                                                        strip_accents=None,\n",
       "                                                        token_pattern='(?u)...\n",
       "                                                      fit_prior=True))],\n",
       "                                verbose=False),\n",
       "             iid='deprecated', n_jobs=-1,\n",
       "             param_grid={'cvec__max_df': [0.5, 0.75, 0.95, 1],\n",
       "                         'cvec__max_features': [5000, 7500, 10000],\n",
       "                         'cvec__min_df': [1, 2, 4, 10],\n",
       "                         'cvec__ngram_range': [(1, 1), (1, 2), (1, 3)],\n",
       "                         'cvec__stop_words': [None, 'english'],\n",
       "                         'mnb__alpha': [0.1, 1, 10]},\n",
       "             pre_dispatch='2*n_jobs', refit=True, return_train_score=False,\n",
       "             scoring=None, verbose=1)"
      ]
     },
     "execution_count": 27,
     "metadata": {},
     "output_type": "execute_result"
    }
   ],
   "source": [
    "# now we can fit and score our pipeline:\n",
    "gs_mnb = GridSearchCV(\n",
    "    pipe_mnb,\n",
    "    param_grid=pipe_params,\n",
    "    cv=5,\n",
    "    n_jobs=-1,\n",
    "    verbose=1\n",
    ")\n",
    "\n",
    "%time\n",
    "gs_mnb.fit(X_train, y_train)"
   ]
  },
  {
   "cell_type": "code",
   "execution_count": 28,
   "metadata": {
    "scrolled": true
   },
   "outputs": [
    {
     "data": {
      "text/plain": [
       "Pipeline(memory=None,\n",
       "         steps=[('cvec',\n",
       "                 CountVectorizer(analyzer='word', binary=False,\n",
       "                                 decode_error='strict',\n",
       "                                 dtype=<class 'numpy.int64'>, encoding='utf-8',\n",
       "                                 input='content', lowercase=True, max_df=0.5,\n",
       "                                 max_features=5000, min_df=2,\n",
       "                                 ngram_range=(1, 3), preprocessor=None,\n",
       "                                 stop_words='english', strip_accents=None,\n",
       "                                 token_pattern='(?u)\\\\b\\\\w\\\\w+\\\\b',\n",
       "                                 tokenizer=None, vocabulary=None)),\n",
       "                ('mnb',\n",
       "                 MultinomialNB(alpha=10, class_prior=None, fit_prior=True))],\n",
       "         verbose=False)"
      ]
     },
     "execution_count": 28,
     "metadata": {},
     "output_type": "execute_result"
    }
   ],
   "source": [
    "gs_mnb.best_estimator_"
   ]
  },
  {
   "cell_type": "code",
   "execution_count": 29,
   "metadata": {},
   "outputs": [
    {
     "data": {
      "text/plain": [
       "0.784"
      ]
     },
     "execution_count": 29,
     "metadata": {},
     "output_type": "execute_result"
    }
   ],
   "source": [
    "model_list = ['MNB']\n",
    "score_list = [gs_mnb.best_score_]\n",
    "data_list = ['Training']\n",
    "\n",
    "gs_mnb.best_score_"
   ]
  },
  {
   "cell_type": "code",
   "execution_count": 30,
   "metadata": {},
   "outputs": [],
   "source": [
    "# as you can see, the best NB model we created can only distinguish the \n",
    "# machinelearning and datascience subreddits about 78% of the time"
   ]
  },
  {
   "cell_type": "code",
   "execution_count": 31,
   "metadata": {},
   "outputs": [
    {
     "data": {
      "text/plain": [
       "0.7706666666666667"
      ]
     },
     "execution_count": 31,
     "metadata": {},
     "output_type": "execute_result"
    }
   ],
   "source": [
    "model_list.append('MNB')\n",
    "score_list.append(gs_mnb.score(X_test, y_test))\n",
    "data_list.append('Testing')\n",
    "gs_mnb.score(X_test, y_test)"
   ]
  },
  {
   "cell_type": "code",
   "execution_count": 32,
   "metadata": {},
   "outputs": [],
   "source": [
    "# lets see if we can improve that with a TFIDF/GaussianNB:\n",
    "\n",
    "pipe_gnb = Pipeline([\n",
    "    ('tfidf', TfidfVectorizer()),\n",
    "    ('_', DenseTransformer()),\n",
    "    ('gnb', GaussianNB())\n",
    "])\n",
    "\n",
    "pipe_params = {\n",
    "    'tfidf__ngram_range' : [(1, 1), (1, 2), (1, 3)], \n",
    "    'tfidf__min_df' : [1, 2, 4, 10],\n",
    "    'tfidf__max_df' : [0.5, 0.75, 0.95, 1],\n",
    "    'tfidf__stop_words' : [None, 'english'],\n",
    "    'tfidf__max_features' : [1_000, 2_000, 3_000],\n",
    "}\n"
   ]
  },
  {
   "cell_type": "code",
   "execution_count": 33,
   "metadata": {
    "scrolled": false
   },
   "outputs": [
    {
     "name": "stdout",
     "output_type": "stream",
     "text": [
      "Wall time: 0 ns\n",
      "Fitting 5 folds for each of 288 candidates, totalling 1440 fits\n"
     ]
    },
    {
     "name": "stderr",
     "output_type": "stream",
     "text": [
      "[Parallel(n_jobs=-1)]: Using backend LokyBackend with 16 concurrent workers.\n",
      "[Parallel(n_jobs=-1)]: Done  18 tasks      | elapsed:    0.8s\n",
      "[Parallel(n_jobs=-1)]: Done 168 tasks      | elapsed:    6.8s\n",
      "[Parallel(n_jobs=-1)]: Done 418 tasks      | elapsed:   18.2s\n",
      "[Parallel(n_jobs=-1)]: Done 768 tasks      | elapsed:   33.6s\n",
      "[Parallel(n_jobs=-1)]: Done 1218 tasks      | elapsed:   50.9s\n",
      "[Parallel(n_jobs=-1)]: Done 1440 out of 1440 | elapsed:   55.6s finished\n"
     ]
    },
    {
     "data": {
      "text/plain": [
       "GridSearchCV(cv=5, error_score=nan,\n",
       "             estimator=Pipeline(memory=None,\n",
       "                                steps=[('tfidf',\n",
       "                                        TfidfVectorizer(analyzer='word',\n",
       "                                                        binary=False,\n",
       "                                                        decode_error='strict',\n",
       "                                                        dtype=<class 'numpy.float64'>,\n",
       "                                                        encoding='utf-8',\n",
       "                                                        input='content',\n",
       "                                                        lowercase=True,\n",
       "                                                        max_df=1.0,\n",
       "                                                        max_features=None,\n",
       "                                                        min_df=1,\n",
       "                                                        ngram_range=(1, 1),\n",
       "                                                        norm='l2',\n",
       "                                                        preprocessor=None,\n",
       "                                                        smooth_idf=True,\n",
       "                                                        stop_words=None,\n",
       "                                                        strip_acc...\n",
       "                                        GaussianNB(priors=None,\n",
       "                                                   var_smoothing=1e-09))],\n",
       "                                verbose=False),\n",
       "             iid='deprecated', n_jobs=-1,\n",
       "             param_grid={'tfidf__max_df': [0.5, 0.75, 0.95, 1],\n",
       "                         'tfidf__max_features': [1000, 2000, 3000],\n",
       "                         'tfidf__min_df': [1, 2, 4, 10],\n",
       "                         'tfidf__ngram_range': [(1, 1), (1, 2), (1, 3)],\n",
       "                         'tfidf__stop_words': [None, 'english']},\n",
       "             pre_dispatch='2*n_jobs', refit=True, return_train_score=False,\n",
       "             scoring=None, verbose=True)"
      ]
     },
     "execution_count": 33,
     "metadata": {},
     "output_type": "execute_result"
    }
   ],
   "source": [
    "gs_gnb = GridSearchCV(pipe_gnb,\n",
    "                     pipe_params,\n",
    "                     cv=5,\n",
    "                     n_jobs=-1,\n",
    "                     verbose=True,\n",
    ")\n",
    "\n",
    "%time\n",
    "gs_gnb.fit(X_train, y_train)"
   ]
  },
  {
   "cell_type": "code",
   "execution_count": 34,
   "metadata": {},
   "outputs": [
    {
     "data": {
      "text/plain": [
       "Pipeline(memory=None,\n",
       "         steps=[('tfidf',\n",
       "                 TfidfVectorizer(analyzer='word', binary=False,\n",
       "                                 decode_error='strict',\n",
       "                                 dtype=<class 'numpy.float64'>,\n",
       "                                 encoding='utf-8', input='content',\n",
       "                                 lowercase=True, max_df=0.5, max_features=1000,\n",
       "                                 min_df=10, ngram_range=(1, 3), norm='l2',\n",
       "                                 preprocessor=None, smooth_idf=True,\n",
       "                                 stop_words=None, strip_accents=None,\n",
       "                                 sublinear_tf=False,\n",
       "                                 token_pattern='(?u)\\\\b\\\\w\\\\w+\\\\b',\n",
       "                                 tokenizer=None, use_idf=True,\n",
       "                                 vocabulary=None)),\n",
       "                ('_', <__main__.DenseTransformer object at 0x000001E6926AC488>),\n",
       "                ('gnb', GaussianNB(priors=None, var_smoothing=1e-09))],\n",
       "         verbose=False)"
      ]
     },
     "execution_count": 34,
     "metadata": {},
     "output_type": "execute_result"
    }
   ],
   "source": [
    "\n",
    "gs_gnb.best_estimator_"
   ]
  },
  {
   "cell_type": "code",
   "execution_count": 35,
   "metadata": {},
   "outputs": [
    {
     "data": {
      "text/plain": [
       "0.7226666666666667"
      ]
     },
     "execution_count": 35,
     "metadata": {},
     "output_type": "execute_result"
    }
   ],
   "source": [
    "model_list.append('GNB')\n",
    "score_list.append(gs_gnb.best_score_)\n",
    "data_list.append(\"Training\")\n",
    "gs_gnb.best_score_"
   ]
  },
  {
   "cell_type": "code",
   "execution_count": 36,
   "metadata": {},
   "outputs": [
    {
     "data": {
      "text/plain": [
       "0.784"
      ]
     },
     "execution_count": 36,
     "metadata": {},
     "output_type": "execute_result"
    }
   ],
   "source": [
    "gs_mnb.best_score_"
   ]
  },
  {
   "cell_type": "code",
   "execution_count": 37,
   "metadata": {},
   "outputs": [
    {
     "data": {
      "text/plain": [
       "0.7066666666666667"
      ]
     },
     "execution_count": 37,
     "metadata": {},
     "output_type": "execute_result"
    }
   ],
   "source": [
    "model_list.append('GNB')\n",
    "score_list.append(gs_gnb.score(X_test, y_test))\n",
    "data_list.append(\"Testing\")\n",
    "gs_gnb.score(X_test, y_test)"
   ]
  },
  {
   "cell_type": "code",
   "execution_count": 38,
   "metadata": {},
   "outputs": [
    {
     "data": {
      "text/plain": [
       "0.7706666666666667"
      ]
     },
     "execution_count": 38,
     "metadata": {},
     "output_type": "execute_result"
    }
   ],
   "source": [
    "gs_mnb.score(X_test, y_test)"
   ]
  },
  {
   "cell_type": "code",
   "execution_count": 39,
   "metadata": {},
   "outputs": [],
   "source": [
    "# so for now, the countvectorizer/multinomial NB takes the crown. Our GNB is probably a little \n",
    "# overfit, so we could go back and change the parameters, but I strongly doubt that we'll\n",
    "# get much better than the MNB version.\n",
    "# lets try a support vector machine next:\n",
    "\n",
    "pipe_svc_tfidf = Pipeline([\n",
    "    ('vect',  TfidfVectorizer()),\n",
    "    ('est', SVC())\n",
    "])\n",
    "\n",
    "pipe_params = {\n",
    "    'vect' : [TfidfVectorizer()],\n",
    "    'vect__ngram_range' : [(1, 2), (1, 3)], \n",
    "    'vect__stop_words' : [None, 'english'],\n",
    "    'vect__min_df' : [1, 5],\n",
    "    'vect__max_df' : [0.75, 0.9, 1],\n",
    "    'vect__max_features' : [2_000, 4_000, 6_000],\n",
    "    'est__C' : [0.1, 1, 10],\n",
    "}\n",
    "\n"
   ]
  },
  {
   "cell_type": "code",
   "execution_count": 40,
   "metadata": {},
   "outputs": [
    {
     "name": "stdout",
     "output_type": "stream",
     "text": [
      "Wall time: 0 ns\n",
      "Fitting 5 folds for each of 216 candidates, totalling 1080 fits\n"
     ]
    },
    {
     "name": "stderr",
     "output_type": "stream",
     "text": [
      "[Parallel(n_jobs=-1)]: Using backend LokyBackend with 16 concurrent workers.\n",
      "[Parallel(n_jobs=-1)]: Done  18 tasks      | elapsed:    2.8s\n",
      "[Parallel(n_jobs=-1)]: Done 168 tasks      | elapsed:   18.8s\n",
      "[Parallel(n_jobs=-1)]: Done 418 tasks      | elapsed:   36.7s\n",
      "[Parallel(n_jobs=-1)]: Done 768 tasks      | elapsed:  1.1min\n",
      "[Parallel(n_jobs=-1)]: Done 1080 out of 1080 | elapsed:  1.5min finished\n"
     ]
    },
    {
     "data": {
      "text/plain": [
       "GridSearchCV(cv=5, error_score=nan,\n",
       "             estimator=Pipeline(memory=None,\n",
       "                                steps=[('vect',\n",
       "                                        TfidfVectorizer(analyzer='word',\n",
       "                                                        binary=False,\n",
       "                                                        decode_error='strict',\n",
       "                                                        dtype=<class 'numpy.float64'>,\n",
       "                                                        encoding='utf-8',\n",
       "                                                        input='content',\n",
       "                                                        lowercase=True,\n",
       "                                                        max_df=1.0,\n",
       "                                                        max_features=None,\n",
       "                                                        min_df=1,\n",
       "                                                        ngram_range=(1, 1),\n",
       "                                                        norm='l2',\n",
       "                                                        preprocessor=None,\n",
       "                                                        smooth_idf=True,\n",
       "                                                        stop_words=None,\n",
       "                                                        strip_acce...\n",
       "                                                  strip_accents=None,\n",
       "                                                  sublinear_tf=False,\n",
       "                                                  token_pattern='(?u)\\\\b\\\\w\\\\w+\\\\b',\n",
       "                                                  tokenizer=None, use_idf=True,\n",
       "                                                  vocabulary=None)],\n",
       "                         'vect__max_df': [0.75, 0.9, 1],\n",
       "                         'vect__max_features': [2000, 4000, 6000],\n",
       "                         'vect__min_df': [1, 5],\n",
       "                         'vect__ngram_range': [(1, 2), (1, 3)],\n",
       "                         'vect__stop_words': [None, 'english']},\n",
       "             pre_dispatch='2*n_jobs', refit=True, return_train_score=False,\n",
       "             scoring=None, verbose=1)"
      ]
     },
     "execution_count": 40,
     "metadata": {},
     "output_type": "execute_result"
    }
   ],
   "source": [
    "gs_svc_tfidf = GridSearchCV(\n",
    "    pipe_svc_tfidf,\n",
    "    pipe_params,\n",
    "    cv=5,\n",
    "    n_jobs=-1,\n",
    "    verbose=1\n",
    ")\n",
    "\n",
    "%time\n",
    "gs_svc_tfidf.fit(X_train, y_train)"
   ]
  },
  {
   "cell_type": "code",
   "execution_count": 41,
   "metadata": {},
   "outputs": [
    {
     "data": {
      "text/plain": [
       "0.7824444444444444"
      ]
     },
     "execution_count": 41,
     "metadata": {},
     "output_type": "execute_result"
    }
   ],
   "source": [
    "model_list.append('SVC')\n",
    "score_list.append(gs_svc_tfidf.best_score_)\n",
    "data_list.append(\"Training\")\n",
    "gs_svc_tfidf.best_score_"
   ]
  },
  {
   "cell_type": "code",
   "execution_count": 42,
   "metadata": {},
   "outputs": [
    {
     "data": {
      "text/plain": [
       "Pipeline(memory=None,\n",
       "         steps=[('vect',\n",
       "                 TfidfVectorizer(analyzer='word', binary=False,\n",
       "                                 decode_error='strict',\n",
       "                                 dtype=<class 'numpy.float64'>,\n",
       "                                 encoding='utf-8', input='content',\n",
       "                                 lowercase=True, max_df=0.75, max_features=6000,\n",
       "                                 min_df=1, ngram_range=(1, 2), norm='l2',\n",
       "                                 preprocessor=None, smooth_idf=True,\n",
       "                                 stop_words='english', strip_accents=None,\n",
       "                                 sublinear_tf=False,\n",
       "                                 token_pattern='(?u)\\\\b\\\\w\\\\w+\\\\b',\n",
       "                                 tokenizer=None, use_idf=True,\n",
       "                                 vocabulary=None)),\n",
       "                ('est',\n",
       "                 SVC(C=1, break_ties=False, cache_size=200, class_weight=None,\n",
       "                     coef0=0.0, decision_function_shape='ovr', degree=3,\n",
       "                     gamma='scale', kernel='rbf', max_iter=-1,\n",
       "                     probability=False, random_state=None, shrinking=True,\n",
       "                     tol=0.001, verbose=False))],\n",
       "         verbose=False)"
      ]
     },
     "execution_count": 42,
     "metadata": {},
     "output_type": "execute_result"
    }
   ],
   "source": [
    "gs_svc_tfidf.best_estimator_"
   ]
  },
  {
   "cell_type": "code",
   "execution_count": 43,
   "metadata": {},
   "outputs": [
    {
     "data": {
      "text/plain": [
       "0.7653333333333333"
      ]
     },
     "execution_count": 43,
     "metadata": {},
     "output_type": "execute_result"
    }
   ],
   "source": [
    "model_list.append('SVC')\n",
    "score_list.append(gs_svc_tfidf.score(X_test, y_test))\n",
    "data_list.append(\"Testing\")\n",
    "gs_svc_tfidf.score(X_test, y_test)"
   ]
  },
  {
   "cell_type": "code",
   "execution_count": 44,
   "metadata": {},
   "outputs": [
    {
     "data": {
      "text/plain": [
       "created_utc     0\n",
       "title           0\n",
       "selftext       35\n",
       "target          0\n",
       "dtype: int64"
      ]
     },
     "execution_count": 44,
     "metadata": {},
     "output_type": "execute_result"
    }
   ],
   "source": [
    "# So 78%/78%, comparable to the MNB model earlier.\n",
    "# Well now we have two working pipelines and gridsearches (svc with tfidf and MNB), maybe we'll\n",
    "# have better luck using the self text instead\n",
    "\n",
    "# first, lets check for nans:\n",
    "\n",
    "data.isnull().sum()\n"
   ]
  },
  {
   "cell_type": "code",
   "execution_count": 45,
   "metadata": {},
   "outputs": [
    {
     "data": {
      "text/html": [
       "<div>\n",
       "<style scoped>\n",
       "    .dataframe tbody tr th:only-of-type {\n",
       "        vertical-align: middle;\n",
       "    }\n",
       "\n",
       "    .dataframe tbody tr th {\n",
       "        vertical-align: top;\n",
       "    }\n",
       "\n",
       "    .dataframe thead th {\n",
       "        text-align: right;\n",
       "    }\n",
       "</style>\n",
       "<table border=\"1\" class=\"dataframe\">\n",
       "  <thead>\n",
       "    <tr style=\"text-align: right;\">\n",
       "      <th></th>\n",
       "      <th>created_utc</th>\n",
       "      <th>title</th>\n",
       "      <th>selftext</th>\n",
       "      <th>target</th>\n",
       "    </tr>\n",
       "  </thead>\n",
       "  <tbody>\n",
       "    <tr>\n",
       "      <th>0</th>\n",
       "      <td>1587754577</td>\n",
       "      <td>\"Machine Learning Engineering\" Learning Series...</td>\n",
       "      <td>(I hope it is appropriate to post this here)\\n...</td>\n",
       "      <td>1</td>\n",
       "    </tr>\n",
       "    <tr>\n",
       "      <th>1</th>\n",
       "      <td>1587750757</td>\n",
       "      <td>A Simple Machine Learning Project Since Data C...</td>\n",
       "      <td></td>\n",
       "      <td>1</td>\n",
       "    </tr>\n",
       "    <tr>\n",
       "      <th>2</th>\n",
       "      <td>1587748828</td>\n",
       "      <td>Dynamically shaped tensor in Keras</td>\n",
       "      <td>I need to create a tensor of zeros with dimens...</td>\n",
       "      <td>1</td>\n",
       "    </tr>\n",
       "    <tr>\n",
       "      <th>3</th>\n",
       "      <td>1587748303</td>\n",
       "      <td>Why is my Ann slower than tensorflows?</td>\n",
       "      <td>I make my own multi layer perception in python...</td>\n",
       "      <td>1</td>\n",
       "    </tr>\n",
       "    <tr>\n",
       "      <th>4</th>\n",
       "      <td>1587747370</td>\n",
       "      <td>Kaggle Mastery</td>\n",
       "      <td>Hello, beginner in data science here. I have ...</td>\n",
       "      <td>1</td>\n",
       "    </tr>\n",
       "  </tbody>\n",
       "</table>\n",
       "</div>"
      ],
      "text/plain": [
       "   created_utc                                              title  \\\n",
       "0   1587754577  \"Machine Learning Engineering\" Learning Series...   \n",
       "1   1587750757  A Simple Machine Learning Project Since Data C...   \n",
       "2   1587748828                 Dynamically shaped tensor in Keras   \n",
       "3   1587748303             Why is my Ann slower than tensorflows?   \n",
       "4   1587747370                                     Kaggle Mastery   \n",
       "\n",
       "                                            selftext  target  \n",
       "0  (I hope it is appropriate to post this here)\\n...       1  \n",
       "1                                                          1  \n",
       "2  I need to create a tensor of zeros with dimens...       1  \n",
       "3  I make my own multi layer perception in python...       1  \n",
       "4   Hello, beginner in data science here. I have ...       1  "
      ]
     },
     "execution_count": 45,
     "metadata": {},
     "output_type": "execute_result"
    }
   ],
   "source": [
    "# 35 out of 6k. Easy enough to drop them.\n",
    "\n",
    "df_text = data.dropna(axis = 0)\n",
    "df_text.head()"
   ]
  },
  {
   "cell_type": "code",
   "execution_count": 46,
   "metadata": {},
   "outputs": [
    {
     "data": {
      "text/html": [
       "<div>\n",
       "<style scoped>\n",
       "    .dataframe tbody tr th:only-of-type {\n",
       "        vertical-align: middle;\n",
       "    }\n",
       "\n",
       "    .dataframe tbody tr th {\n",
       "        vertical-align: top;\n",
       "    }\n",
       "\n",
       "    .dataframe thead th {\n",
       "        text-align: right;\n",
       "    }\n",
       "</style>\n",
       "<table border=\"1\" class=\"dataframe\">\n",
       "  <thead>\n",
       "    <tr style=\"text-align: right;\">\n",
       "      <th></th>\n",
       "      <th>created_utc</th>\n",
       "      <th>title</th>\n",
       "      <th>selftext</th>\n",
       "      <th>target</th>\n",
       "    </tr>\n",
       "  </thead>\n",
       "  <tbody>\n",
       "    <tr>\n",
       "      <th>0</th>\n",
       "      <td>1587754577</td>\n",
       "      <td>\"Machine Learning Engineering\" Learning Series...</td>\n",
       "      <td>(I hope it is appropriate to post this here)\\n...</td>\n",
       "      <td>1</td>\n",
       "    </tr>\n",
       "    <tr>\n",
       "      <th>2</th>\n",
       "      <td>1587748828</td>\n",
       "      <td>Dynamically shaped tensor in Keras</td>\n",
       "      <td>I need to create a tensor of zeros with dimens...</td>\n",
       "      <td>1</td>\n",
       "    </tr>\n",
       "    <tr>\n",
       "      <th>3</th>\n",
       "      <td>1587748303</td>\n",
       "      <td>Why is my Ann slower than tensorflows?</td>\n",
       "      <td>I make my own multi layer perception in python...</td>\n",
       "      <td>1</td>\n",
       "    </tr>\n",
       "    <tr>\n",
       "      <th>4</th>\n",
       "      <td>1587747370</td>\n",
       "      <td>Kaggle Mastery</td>\n",
       "      <td>Hello, beginner in data science here. I have ...</td>\n",
       "      <td>1</td>\n",
       "    </tr>\n",
       "    <tr>\n",
       "      <th>5</th>\n",
       "      <td>1587747273</td>\n",
       "      <td>CNN for color classification</td>\n",
       "      <td>This is my first CNN and right now can only ha...</td>\n",
       "      <td>1</td>\n",
       "    </tr>\n",
       "  </tbody>\n",
       "</table>\n",
       "</div>"
      ],
      "text/plain": [
       "   created_utc                                              title  \\\n",
       "0   1587754577  \"Machine Learning Engineering\" Learning Series...   \n",
       "2   1587748828                 Dynamically shaped tensor in Keras   \n",
       "3   1587748303             Why is my Ann slower than tensorflows?   \n",
       "4   1587747370                                     Kaggle Mastery   \n",
       "5   1587747273                       CNN for color classification   \n",
       "\n",
       "                                            selftext  target  \n",
       "0  (I hope it is appropriate to post this here)\\n...       1  \n",
       "2  I need to create a tensor of zeros with dimens...       1  \n",
       "3  I make my own multi layer perception in python...       1  \n",
       "4   Hello, beginner in data science here. I have ...       1  \n",
       "5  This is my first CNN and right now can only ha...       1  "
      ]
     },
     "execution_count": 46,
     "metadata": {},
     "output_type": "execute_result"
    }
   ],
   "source": [
    "# now lets see how many blank messages there are:\n",
    "mask = df_text['selftext'] != ''\n",
    "df_text_munged = df_text[mask]\n",
    "df_text_munged.head()"
   ]
  },
  {
   "cell_type": "code",
   "execution_count": 47,
   "metadata": {},
   "outputs": [
    {
     "data": {
      "text/plain": [
       "(4449, 4)"
      ]
     },
     "execution_count": 47,
     "metadata": {},
     "output_type": "execute_result"
    }
   ],
   "source": [
    "df_text_munged.shape\n"
   ]
  },
  {
   "cell_type": "code",
   "execution_count": 48,
   "metadata": {},
   "outputs": [
    {
     "data": {
      "text/plain": [
       "0.48482805124747136"
      ]
     },
     "execution_count": 48,
     "metadata": {},
     "output_type": "execute_result"
    }
   ],
   "source": [
    "df_text_munged['target'].mean()"
   ]
  },
  {
   "cell_type": "code",
   "execution_count": 49,
   "metadata": {},
   "outputs": [],
   "source": [
    "# so classes are still fairly balanced, even with munging. Let's set up X and y\n",
    "# we can try our already created GridSearches to optimize\n",
    "\n",
    "X = df_text_munged['selftext']\n",
    "y = df_text_munged['target']\n",
    "\n",
    "X_train, X_test, y_train, y_test = train_test_split(X, y, stratify=y, random_state=42)"
   ]
  },
  {
   "cell_type": "code",
   "execution_count": 50,
   "metadata": {},
   "outputs": [
    {
     "name": "stdout",
     "output_type": "stream",
     "text": [
      "Fitting 5 folds for each of 864 candidates, totalling 4320 fits\n"
     ]
    },
    {
     "name": "stderr",
     "output_type": "stream",
     "text": [
      "[Parallel(n_jobs=-1)]: Using backend LokyBackend with 16 concurrent workers.\n",
      "[Parallel(n_jobs=-1)]: Done  18 tasks      | elapsed:    0.8s\n",
      "[Parallel(n_jobs=-1)]: Done 168 tasks      | elapsed:   19.9s\n",
      "[Parallel(n_jobs=-1)]: Done 418 tasks      | elapsed:   46.4s\n",
      "[Parallel(n_jobs=-1)]: Done 768 tasks      | elapsed:  1.5min\n",
      "[Parallel(n_jobs=-1)]: Done 1218 tasks      | elapsed:  2.3min\n",
      "[Parallel(n_jobs=-1)]: Done 1768 tasks      | elapsed:  3.4min\n",
      "[Parallel(n_jobs=-1)]: Done 2418 tasks      | elapsed:  4.7min\n",
      "[Parallel(n_jobs=-1)]: Done 3168 tasks      | elapsed:  6.1min\n",
      "[Parallel(n_jobs=-1)]: Done 4018 tasks      | elapsed:  7.5min\n",
      "[Parallel(n_jobs=-1)]: Done 4320 out of 4320 | elapsed:  8.0min finished\n"
     ]
    },
    {
     "data": {
      "text/plain": [
       "GridSearchCV(cv=5, error_score=nan,\n",
       "             estimator=Pipeline(memory=None,\n",
       "                                steps=[('cvec',\n",
       "                                        CountVectorizer(analyzer='word',\n",
       "                                                        binary=False,\n",
       "                                                        decode_error='strict',\n",
       "                                                        dtype=<class 'numpy.int64'>,\n",
       "                                                        encoding='utf-8',\n",
       "                                                        input='content',\n",
       "                                                        lowercase=True,\n",
       "                                                        max_df=1.0,\n",
       "                                                        max_features=None,\n",
       "                                                        min_df=1,\n",
       "                                                        ngram_range=(1, 1),\n",
       "                                                        preprocessor=None,\n",
       "                                                        stop_words=None,\n",
       "                                                        strip_accents=None,\n",
       "                                                        token_pattern='(?u)...\n",
       "                                                      fit_prior=True))],\n",
       "                                verbose=False),\n",
       "             iid='deprecated', n_jobs=-1,\n",
       "             param_grid={'cvec__max_df': [0.5, 0.75, 0.95, 1],\n",
       "                         'cvec__max_features': [5000, 7500, 10000],\n",
       "                         'cvec__min_df': [1, 2, 4, 10],\n",
       "                         'cvec__ngram_range': [(1, 1), (1, 2), (1, 3)],\n",
       "                         'cvec__stop_words': [None, 'english'],\n",
       "                         'mnb__alpha': [0.1, 1, 10]},\n",
       "             pre_dispatch='2*n_jobs', refit=True, return_train_score=False,\n",
       "             scoring=None, verbose=1)"
      ]
     },
     "execution_count": 50,
     "metadata": {},
     "output_type": "execute_result"
    }
   ],
   "source": [
    "import copy\n",
    "\n",
    "gs_mnb_text = copy.deepcopy(gs_mnb)\n",
    "gs_mnb_text.fit(X_train, y_train)"
   ]
  },
  {
   "cell_type": "code",
   "execution_count": 51,
   "metadata": {},
   "outputs": [
    {
     "data": {
      "text/plain": [
       "0.8189439711282084"
      ]
     },
     "execution_count": 51,
     "metadata": {},
     "output_type": "execute_result"
    }
   ],
   "source": [
    "model_list.append('MNB - selftext')\n",
    "score_list.append(gs_mnb_text.best_score_)\n",
    "data_list.append('Training')\n",
    "gs_mnb_text.best_score_"
   ]
  },
  {
   "cell_type": "code",
   "execution_count": 52,
   "metadata": {},
   "outputs": [
    {
     "data": {
      "text/plain": [
       "0.8005390835579514"
      ]
     },
     "execution_count": 52,
     "metadata": {},
     "output_type": "execute_result"
    }
   ],
   "source": [
    "model_list.append('MNB - selftext')\n",
    "score_list.append(gs_mnb_text.score(X_test, y_test))\n",
    "data_list.append('Testing')\n",
    "\n",
    "gs_mnb_text.score(X_test, y_test)"
   ]
  },
  {
   "cell_type": "code",
   "execution_count": 53,
   "metadata": {},
   "outputs": [
    {
     "data": {
      "text/html": [
       "<div>\n",
       "<style scoped>\n",
       "    .dataframe tbody tr th:only-of-type {\n",
       "        vertical-align: middle;\n",
       "    }\n",
       "\n",
       "    .dataframe tbody tr th {\n",
       "        vertical-align: top;\n",
       "    }\n",
       "\n",
       "    .dataframe thead th {\n",
       "        text-align: right;\n",
       "    }\n",
       "</style>\n",
       "<table border=\"1\" class=\"dataframe\">\n",
       "  <thead>\n",
       "    <tr style=\"text-align: right;\">\n",
       "      <th></th>\n",
       "      <th>Model</th>\n",
       "      <th>Score</th>\n",
       "      <th>Data</th>\n",
       "    </tr>\n",
       "  </thead>\n",
       "  <tbody>\n",
       "    <tr>\n",
       "      <th>0</th>\n",
       "      <td>MNB</td>\n",
       "      <td>0.784000</td>\n",
       "      <td>Training</td>\n",
       "    </tr>\n",
       "    <tr>\n",
       "      <th>1</th>\n",
       "      <td>MNB</td>\n",
       "      <td>0.770667</td>\n",
       "      <td>Testing</td>\n",
       "    </tr>\n",
       "    <tr>\n",
       "      <th>2</th>\n",
       "      <td>GNB</td>\n",
       "      <td>0.722667</td>\n",
       "      <td>Training</td>\n",
       "    </tr>\n",
       "    <tr>\n",
       "      <th>3</th>\n",
       "      <td>GNB</td>\n",
       "      <td>0.706667</td>\n",
       "      <td>Testing</td>\n",
       "    </tr>\n",
       "    <tr>\n",
       "      <th>4</th>\n",
       "      <td>SVC</td>\n",
       "      <td>0.782444</td>\n",
       "      <td>Training</td>\n",
       "    </tr>\n",
       "    <tr>\n",
       "      <th>5</th>\n",
       "      <td>SVC</td>\n",
       "      <td>0.765333</td>\n",
       "      <td>Testing</td>\n",
       "    </tr>\n",
       "    <tr>\n",
       "      <th>6</th>\n",
       "      <td>MNB - selftext</td>\n",
       "      <td>0.818944</td>\n",
       "      <td>Training</td>\n",
       "    </tr>\n",
       "    <tr>\n",
       "      <th>7</th>\n",
       "      <td>MNB - selftext</td>\n",
       "      <td>0.800539</td>\n",
       "      <td>Testing</td>\n",
       "    </tr>\n",
       "  </tbody>\n",
       "</table>\n",
       "</div>"
      ],
      "text/plain": [
       "            Model     Score      Data\n",
       "0             MNB  0.784000  Training\n",
       "1             MNB  0.770667   Testing\n",
       "2             GNB  0.722667  Training\n",
       "3             GNB  0.706667   Testing\n",
       "4             SVC  0.782444  Training\n",
       "5             SVC  0.765333   Testing\n",
       "6  MNB - selftext  0.818944  Training\n",
       "7  MNB - selftext  0.800539   Testing"
      ]
     },
     "execution_count": 53,
     "metadata": {},
     "output_type": "execute_result"
    }
   ],
   "source": [
    "scores = {'Model' : model_list,\n",
    "         'Score' : score_list,\n",
    "         'Data' : data_list}\n",
    "\n",
    "scores_df = pd.DataFrame(scores)\n",
    "scores_df"
   ]
  },
  {
   "cell_type": "code",
   "execution_count": 54,
   "metadata": {
    "scrolled": true
   },
   "outputs": [
    {
     "data": {
      "text/plain": [
       "Text(0.5, 1.0, 'Model Scores by Type')"
      ]
     },
     "execution_count": 54,
     "metadata": {},
     "output_type": "execute_result"
    },
    {
     "data": {
      "image/png": "[encoded data removed]",
      "text/plain": [
       "<Figure size 720x576 with 1 Axes>"
      ]
     },
     "metadata": {
      "needs_background": "light"
     },
     "output_type": "display_data"
    }
   ],
   "source": [
    "plt.figure(figsize=(10,8))\n",
    "sns.barplot(data=scores_df, x='Score', y='Model', hue='Data', orient='h', palette='Paired')\n",
    "plt.legend(loc='upper right')\n",
    "plt.xlim(0, 1)\n",
    "plt.title(\"Model Scores by Type\", fontsize=18)"
   ]
  },
  {
   "cell_type": "markdown",
   "metadata": {},
   "source": [
    "## Statistical Analysis\n",
    "\n",
    "Let's take a look at some classification metrics for our best model, the MNB model based on title text:"
   ]
  },
  {
   "cell_type": "code",
   "execution_count": 62,
   "metadata": {},
   "outputs": [
    {
     "data": {
      "text/html": [
       "<div>\n",
       "<style scoped>\n",
       "    .dataframe tbody tr th:only-of-type {\n",
       "        vertical-align: middle;\n",
       "    }\n",
       "\n",
       "    .dataframe tbody tr th {\n",
       "        vertical-align: top;\n",
       "    }\n",
       "\n",
       "    .dataframe thead th {\n",
       "        text-align: right;\n",
       "    }\n",
       "</style>\n",
       "<table border=\"1\" class=\"dataframe\">\n",
       "  <thead>\n",
       "    <tr style=\"text-align: right;\">\n",
       "      <th></th>\n",
       "      <th>pred ds</th>\n",
       "      <th>pred ml</th>\n",
       "    </tr>\n",
       "  </thead>\n",
       "  <tbody>\n",
       "    <tr>\n",
       "      <th>actual ds</th>\n",
       "      <td>496</td>\n",
       "      <td>77</td>\n",
       "    </tr>\n",
       "    <tr>\n",
       "      <th>actual ml</th>\n",
       "      <td>117</td>\n",
       "      <td>423</td>\n",
       "    </tr>\n",
       "  </tbody>\n",
       "</table>\n",
       "</div>"
      ],
      "text/plain": [
       "           pred ds  pred ml\n",
       "actual ds      496       77\n",
       "actual ml      117      423"
      ]
     },
     "execution_count": 62,
     "metadata": {},
     "output_type": "execute_result"
    }
   ],
   "source": [
    "from sklearn.metrics import confusion_matrix\n",
    "\n",
    "y_preds = gs_mnb.predict(X_test)\n",
    "\n",
    "mnb_conmatrix = confusion_matrix(y_test, y_preds)\n",
    "mnb_confusion_df = pd.DataFrame(mnb_conmatrix, index=['actual ds', 'actual ml'],\n",
    "            columns=['pred ds', 'pred ml'])\n",
    "mnb_confusion_df"
   ]
  },
  {
   "cell_type": "code",
   "execution_count": 67,
   "metadata": {},
   "outputs": [],
   "source": [
    "def get_metrics(tp, tn, fp, fn):\n",
    "    '''Get confusion matrix based classification metrics\n",
    "        \n",
    "        \n",
    "    Keyword Arguments:\n",
    "    \n",
    "    tp = True Positives (pred 1 AND actual 1)\n",
    "    tn = True Negatives (pred 0 AND actual 0)\n",
    "    fp = False positives (pred 1 AND actual 0)\n",
    "    fn = False Negatives (Pred 0 AND actual 1)\n",
    "    \n",
    "    Returns:\n",
    "    Text Block with:\n",
    "        Recall/Sensitivity/True Positive Rate\n",
    "        Specificity/True Negative Rate\n",
    "        Precision/Positive Predictive Value\n",
    "        Negative Predictive Value\n",
    "        Miss Rate/False Negative Rate\n",
    "        Fall Out/False Positive Rate\n",
    "        \n",
    "    Output:\n",
    "        Recall\n",
    "        Specificity\n",
    "        Precision\n",
    "        \n",
    "    \n",
    "    '''\n",
    "    tpr = tp / (tp + fn)\n",
    "    tnr = tn / (tn + fp)\n",
    "    ppr = tp / (tp + fp)\n",
    "    npv = tn / (tn + fn)\n",
    "    fnr = 1 - tpr\n",
    "    fpr = 1 - tnr\n",
    "\n",
    "    print(f\"The Sensitivity is:  {tpr}.\")\n",
    "    print(f\"The Specificity is:  {tnr}.\")\n",
    "    print(f\"The Precision is:    {ppr}.\")\n",
    "    print(f\"The Neg Pred Val is: {npv}.\")\n",
    "    print(f\"The Miss Rate is:    {fnr}.\")\n",
    "    print(f\"The Fall Out is:     {fpr}.\")\n",
    "    \n",
    "    return tpr, tnr, ppr"
   ]
  },
  {
   "cell_type": "code",
   "execution_count": 69,
   "metadata": {},
   "outputs": [
    {
     "name": "stdout",
     "output_type": "stream",
     "text": [
      "The Sensitivity is:  0.7833333333333333.\n",
      "The Specificity is:  0.8656195462478184.\n",
      "The Precision is:    0.846.\n",
      "The Neg Pred Val is: 0.8091353996737357.\n",
      "The Miss Rate is:    0.21666666666666667.\n",
      "The Fall Out is:     0.13438045375218155.\n"
     ]
    },
    {
     "data": {
      "text/plain": [
       "(0.7833333333333333, 0.8656195462478184, 0.846)"
      ]
     },
     "execution_count": 69,
     "metadata": {},
     "output_type": "execute_result"
    }
   ],
   "source": [
    "get_metrics(423, 496, 77, 117)"
   ]
  },
  {
   "cell_type": "code",
   "execution_count": null,
   "metadata": {},
   "outputs": [],
   "source": [
    "# some interesting things about the model: \n",
    "# it is more likely to mischategorize a machine learning post as a data science post\n",
    "# the model is better at discriminating data science posts"
   ]
  },
  {
   "cell_type": "markdown",
   "metadata": {},
   "source": [
    "## Conclusion\n",
    "\n",
    "At approximately 80% accuracy, modeling is insufficient to fully differentiate r/learnmachinelearning and r/datascience. The model was more likely to call a r/learnmachinelearning submission as belonging to r/datascience than vice-versa. This suggests significant content overlap between the two subreddits, despite the somewhat different scopes of the subs. That the model was able to disciminate either class as well as it did suggests significant topical difference. Filtering on this basis may be a future extension of this project, depending on whether or not my friend agrees with me. For instance, removing subsets of post types such as career advice from the r/datascience group may be able to reframe the argument slightly. The question then becomes \"can the technical content from r/datascience be discriminated from r/learnmachinelearning?\" I feel this question is a little more to the heart of the argument with my friend, so I'll hold on to it if I need it ;-)."
   ]
  },
  {
   "cell_type": "code",
   "execution_count": null,
   "metadata": {},
   "outputs": [],
   "source": []
  }
 ],
 "metadata": {
  "kernelspec": {
   "display_name": "Python 3",
   "language": "python",
   "name": "python3"
  },
  "language_info": {
   "codemirror_mode": {
    "name": "ipython",
    "version": 3
   },
   "file_extension": ".py",
   "mimetype": "text/x-python",
   "name": "python",
   "nbconvert_exporter": "python",
   "pygments_lexer": "ipython3",
   "version": "3.7.4"
  }
 },
 "nbformat": 4,
 "nbformat_minor": 2
}
